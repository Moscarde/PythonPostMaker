{
 "cells": [
  {
   "cell_type": "code",
   "execution_count": 1,
   "metadata": {},
   "outputs": [],
   "source": [
    "import json\n",
    "from selenium import webdriver\n",
    "import os\n",
    "import re\n",
    "from bs4 import BeautifulSoup\n",
    "\n",
    "# from selenium.webdriver.chrome.options import Options\n",
    "\n",
    "# webdriver-manager\n",
    "# from selenium.webdriver.chrome.service import Service\n",
    "# from webdriver_manager.chrome import ChromeDriverManager\n",
    "\n",
    "# selenium tools\n",
    "from selenium.webdriver.common.by import By\n",
    "from selenium.webdriver.common.keys import Keys\n",
    "from selenium.webdriver.support import expected_conditions as EC\n",
    "from selenium.webdriver.support.ui import WebDriverWait\n",
    "from selenium.webdriver.remote.webdriver import WebElement\n",
    "from selenium.webdriver.common.action_chains import ActionChains\n",
    "from selenium.common.exceptions import TimeoutException, NoSuchElementException\n",
    "from time import sleep\n",
    "import json\n",
    "from datetime import datetime"
   ]
  },
  {
   "cell_type": "code",
   "execution_count": 2,
   "metadata": {},
   "outputs": [],
   "source": [
    "#selenium start\n",
    "driver = webdriver.Chrome()"
   ]
  },
  {
   "cell_type": "code",
   "execution_count": 3,
   "metadata": {},
   "outputs": [],
   "source": [
    "# Fazendo a requisição\n",
    "\n",
    "post_video = \"https://www.linkedin.com/posts/fernandogomesfg_python-gis-geospatial-ugcPost-7184308650679689216-ljBu?utm_source=share&utm_medium=member_desktop\"\n",
    "post_texto = \"https://www.linkedin.com/posts/thiagolisboapro_99-das-pessoas-aqui-no-in-vivem-na-roda-activity-7186371514911383552-g_U9?utm_source=share&utm_medium=member_desktop\"\n",
    "post_imagem = \"https://www.linkedin.com/posts/randypitcherii_snowflake-snowpark-where-have-you-been-activity-7186451080187195392-IXLk?utm_source=share&utm_medium=member_desktop\"\n",
    "post_mult_imagem = \"https://www.linkedin.com/posts/rodrigobcerqueira_%C3%A9-poss%C3%ADvel-utilizar-dados-e-m%C3%A9todos-estat%C3%ADsticos-ugcPost-7181702612499447808-jwVv?utm_source=share&utm_medium=member_desktop\"\n",
    "\n",
    "\n",
    "url = \"\"\"\n",
    "https://www.linkedin.com/posts/marciana-agostinho_analytics-sql-analisededados-activity-7185970201480286208-Ynl6?utm_source=share&utm_medium=member_desktop\n",
    "\"\"\"\n",
    "\n",
    "\n",
    "\n",
    "driver.get(url)"
   ]
  },
  {
   "cell_type": "code",
   "execution_count": 4,
   "metadata": {},
   "outputs": [
    {
     "data": {
      "text/plain": [
       "True"
      ]
     },
     "execution_count": 4,
     "metadata": {},
     "output_type": "execute_result"
    }
   ],
   "source": [
    "def verify_sign_in():\n",
    "    xpath_close_modal = \"//icon[contains(@class, 'contextual-sign-in-modal__modal-dismiss-icon')]\"\n",
    "    try:\n",
    "        WebDriverWait(driver, 3).until(\n",
    "            EC.element_to_be_clickable((By.XPATH, xpath_close_modal))\n",
    "        ).click()\n",
    "        return True\n",
    "    except TimeoutException:\n",
    "        return False\n",
    "    \n",
    "verify_sign_in()\n"
   ]
  },
  {
   "cell_type": "code",
   "execution_count": 5,
   "metadata": {},
   "outputs": [],
   "source": [
    "def verify_content_unavailable():\n",
    "    xpath_content_unavailable = \"//a[@data-tracking-control-name='public_post_content-unavailable-join']\"\n",
    "    try:\n",
    "        WebDriverWait(driver, 1.5).until(\n",
    "            EC.element_to_be_clickable((By.XPATH, xpath_content_unavailable))\n",
    "        )\n",
    "        return True\n",
    "    except TimeoutException:\n",
    "        return False\n",
    "    \n",
    "if verify_content_unavailable():\n",
    "    print(\"Conteúdo disponível apenas para usuários, parando o script!\")"
   ]
  },
  {
   "cell_type": "code",
   "execution_count": 6,
   "metadata": {},
   "outputs": [
    {
     "name": "stdout",
     "output_type": "stream",
     "text": [
      "{'autor_name': 'Marciana Agostinho', 'autor_subtitle': 'FrontEnd Software Engineer | React | React Native | Typescript | Jest | Next.js | Node.js | Firebase | Redux | Axios | Git | Github', 'post_age': '4d', 'autor_img_src': 'https://media.licdn.com/dms/image/D4D03AQGip6RnyQ76jQ/profile-displayphoto-shrink_400_400/0/1677454722050?e=2147483647&v=beta&t=ekahRf6_s5rDRW5htkja-vxaXCxLjAGgjSrw1sScoM0'}\n"
     ]
    }
   ],
   "source": [
    "scrap = {}\n",
    "for i in range(9):\n",
    "    driver.execute_script(f\"window.scrollTo(0, {300 * i});\")\n",
    "    sleep(.5)\n",
    "\n",
    "sleep(.5)\n",
    "\n",
    "#data-tracking-control-name=\"public_post_content-unavailable-join\"\n",
    "\n",
    "\n",
    "article_element = driver.find_element(by=By.TAG_NAME, value=\"article\")\n",
    "soup_article = BeautifulSoup(article_element.get_attribute(\"outerHTML\"), \"html.parser\")\n",
    "\n",
    "#Original Poster\n",
    "xpath_post_header = \"//div[@data-test-id='main-feed-activity-card__entity-lockup']\"\n",
    "header = soup_article.find(\"div\", attrs={\"data-test-id\": \"main-feed-activity-card__entity-lockup\"})\n",
    "header_content = [item.strip() for item in header.text.split(\"\\n\") if item.strip()]\n",
    "\n",
    "scrap[\"autor_name\"] = header.find(attrs={\"data-tracking-control-name\":\"public_post_feed-actor-name\"}).text.strip()\n",
    "scrap[\"autor_subtitle\"] = header_content[1]\n",
    "scrap[\"post_age\"] = header_content[2]\n",
    "\n",
    "scrap[\"autor_img_src\"] = header.find(\"img\").get(\"src\")\n",
    "# print(autor_subtitle)\n",
    "\n",
    "print(scrap)"
   ]
  },
  {
   "cell_type": "code",
   "execution_count": 7,
   "metadata": {},
   "outputs": [
    {
     "data": {
      "text/plain": [
       "'Bom Dia! Rede.\\n\\nIniciar os estudos de SQL é como abrir uma porta para um mundo de descobertas emocionantes. É a emoção de dar os primeiros passos em direção ao entendimento e domínio de uma linguagem que permeia os bastidores de sistemas e aplicativos, guiando o fluxo de dados de forma precisa e eficiente. Cada linha de código escrita é uma oportunidade de compreender como estruturar consultas, manipular tabelas e extrair informações valiosas de conjuntos de dados aparentemente complexos. A satisfação em iniciar os estudos de SQL reside na sensação de capacitação e no reconhecimento de que estou adquirindo habilidades essenciais para enfrentar desafios cada vez mais relevantes no mundo da tecnologia e da análise de dados. É o primeiro passo em uma jornada fascinante de aprendizado e crescimento profissional.\\n\\n#Analytics #SQL #Analisededados #Conhecimento'"
      ]
     },
     "execution_count": 7,
     "metadata": {},
     "output_type": "execute_result"
    }
   ],
   "source": [
    "scrap[\"content_text\"] = soup_article.find(\"p\", class_=\"attributed-text-segment-list__content\").text\n",
    "scrap[\"content_text\"]"
   ]
  },
  {
   "cell_type": "code",
   "execution_count": 8,
   "metadata": {},
   "outputs": [
    {
     "name": "stdout",
     "output_type": "stream",
     "text": [
      "Post contem imagens\n",
      "['https://media.licdn.com/dms/image/D4E22AQG6qxpPIrfW7A/feedshare-shrink_2048_1536/0/1713222533151?e=2147483647&v=beta&t=6t-eXU28qWcAl2XRGbmy195S5GNFBw9Y4jngdu8c9fg']\n"
     ]
    }
   ],
   "source": [
    "scrap[\"content_imgs_src\"] = []\n",
    "\n",
    "try:\n",
    "    article_element = driver.find_element(by=By.TAG_NAME, value=\"article\")\n",
    "\n",
    "    soup_article = BeautifulSoup(article_element.get_attribute(\"outerHTML\"), \"html.parser\")\n",
    "    content_imgs = soup_article.find(attrs={\"data-test-id\": \"feed-images-content\"})\n",
    "    if content_imgs:\n",
    "        content_imgs = content_imgs.find_all(\"img\")\n",
    "        print(\"Post contem imagens\")\n",
    "        scrap[\"content_imgs_src\"] = [img.get(\"src\") for img in content_imgs]\n",
    "\n",
    "    content_video = soup_article.find_all(\"video\")\n",
    "    if content_video:\n",
    "        print(\"Contem video\")\n",
    "        scrap[\"content_imgs_src\"] = [video.get(\"data-poster-url\") for video in content_video]\n",
    "\n",
    "\n",
    "except NoSuchElementException:\n",
    "    print(\"Tipo de postagem não suportado. Falha ao capturar conteúdo\")\n",
    "\n",
    "if len(scrap[\"content_imgs_src\"]) == 0:\n",
    "    print(\"Não foi encontrado imagem ou videos no post\")\n",
    "    \n",
    "print(scrap[\"content_imgs_src\"])"
   ]
  },
  {
   "cell_type": "code",
   "execution_count": 9,
   "metadata": {},
   "outputs": [
    {
     "name": "stdout",
     "output_type": "stream",
     "text": [
      "['129', '6 Comments']\n"
     ]
    }
   ],
   "source": [
    "#reactions\n",
    "reactions = soup_article.find(\"div\", class_= \"main-feed-activity-card__social-actions\").text\n",
    "\n",
    "scrap[\"reactions\"] = [item.strip() for item in reactions.split(\"\\n\") if item.strip()]\n",
    "print(scrap[\"reactions\"])\n",
    "\n"
   ]
  },
  {
   "cell_type": "code",
   "execution_count": 10,
   "metadata": {},
   "outputs": [],
   "source": [
    "# comentários\n",
    "scrap[\"comments\"] = []\n",
    "article_element = driver.find_element(by=By.TAG_NAME, value=\"article\")\n",
    "soup_article = BeautifulSoup(article_element.get_attribute(\"outerHTML\"), \"html.parser\")\n",
    "\n",
    "\n",
    "comments = soup_article.find_all(\"section\", class_=\"comment\")\n",
    "\n",
    "for comment in comments:\n",
    "    current_comment = {}\n",
    "\n",
    "    comment_header = comment.find(class_=\"comment__header\").text.split(\"\\n\")\n",
    "    comment_header_texts = [item.strip() for item in comment_header if item.strip()]\n",
    "    current_comment[\"autor\"] = comment_header_texts[0]\n",
    "    current_comment[\"subtitle\"] = comment_header_texts[1]\n",
    "    current_comment[\"age\"] = comment_header_texts[2]\n",
    "\n",
    "    current_comment[\"profile_url\"] = comment.find(\"a\").get(\"href\").split(\"?\")[0]\n",
    "    current_comment[\"profile_image_src\"] = comment.find(\"img\").get(\"src\")\n",
    "    current_comment[\"comment_text\"] = comment.find(class_=\"comment__text\").text\n",
    "    scrap[\"comments\"].append(current_comment)\n",
    "\n",
    "# post"
   ]
  },
  {
   "cell_type": "code",
   "execution_count": 11,
   "metadata": {},
   "outputs": [],
   "source": [
    "def clear_text(text):\n",
    "    # Remove caracteres não permitidos e converte para minúsculas\n",
    "    text = re.sub(r'[^a-zA-Z0-9]', '_', text.lower())\n",
    "    return text\n",
    "\n",
    "\n",
    "today = datetime.now().strftime(\"%Y-%m-%d\")\n",
    "folder_name_autor = clear_text(scrap[\"autor_name\"])\n",
    "folder_name_post = clear_text(scrap[\"content_text\"][:20])\n",
    "\n",
    "export_path = f\"scraped/{today}/{folder_name_autor}/{folder_name_post}\"\n",
    "\n",
    "if not os.path.exists(export_path):\n",
    "    os.makedirs(export_path)\n",
    "\n",
    "with open(f\"{export_path}/data.json\", \"w\", encoding=\"utf-8\") as file:\n",
    "    json.dump(scrap, file, ensure_ascii=False)"
   ]
  },
  {
   "cell_type": "code",
   "execution_count": 12,
   "metadata": {},
   "outputs": [
    {
     "name": "stdout",
     "output_type": "stream",
     "text": [
      "{'autor': 'Caroline Dutka', 'subtitle': 'Departamento Pessoal | Recursos Humanos', 'age': '4d', 'profile_url': 'https://br.linkedin.com/in/caroline-dutka-22a9ab2a3', 'profile_image_src': 'https://media.licdn.com/dms/image/D4D03AQE1keNrn3w7GA/profile-displayphoto-shrink_400_400/0/1707163091254?e=2147483647&v=beta&t=FJhqngWZ9pUH2oAEfbHAtXLxlAtgalxhIfjyGLF-vFs', 'comment_text': 'Esse mundo de descobertas é incrível. Parabéns pela dedicação'}\n",
      "{'autor': 'Alex Rangel', 'subtitle': 'Desenvolvedor Full Stack | Front End | Back End', 'age': '4d', 'profile_url': 'https://br.linkedin.com/in/alex-rangel90', 'profile_image_src': 'https://media.licdn.com/dms/image/D4D03AQF6UGrIbXTH3A/profile-displayphoto-shrink_400_400/0/1713142385368?e=2147483647&v=beta&t=JOVihWJ9xHJLCIziHJIHyuH4IXieroTUojIQW1gzyII', 'comment_text': 'Parabéns pela dedicação '}\n",
      "{'autor': 'Antonio Carlos Gonçalves Correa', 'subtitle': 'Analista de Dados | Power BI | Banco de Dados | Análise de Dados | Dashboards', 'age': '4d', 'profile_url': 'https://br.linkedin.com/in/antoniocarlosgon%C3%A7alvescorrea', 'profile_image_src': 'https://media.licdn.com/dms/image/D4E03AQF5kWaqJRJAeA/profile-displayphoto-shrink_400_400/0/1708364791003?e=2147483647&v=beta&t=Nv-BoVvsTBT4df57XhFZ7mzqvwFQ98NOoj4i3RpISIE', 'comment_text': 'Esse mundo de dados é incrível, mergulhe funde e sucesso em seus estudos Marciana Agostinho '}\n"
     ]
    }
   ],
   "source": [
    "for comment in scrap[\"comments\"]:\n",
    "    print(comment)"
   ]
  },
  {
   "cell_type": "code",
   "execution_count": 13,
   "metadata": {},
   "outputs": [],
   "source": [
    "driver.get(scrap[\"autor_img_src\"])\n",
    "sleep(.5)\n",
    "driver.find_element(by=By.TAG_NAME, value=\"img\").screenshot(f\"{export_path}/autor_img.png\")\n",
    "\n",
    "for index, img in enumerate(scrap[\"content_imgs_src\"]):\n",
    "    sleep(.5)\n",
    "    driver.get(img)\n",
    "    driver.find_element(by=By.TAG_NAME, value=\"img\").screenshot(f\"{export_path}/content_img_{index}.png\")\n",
    "\n",
    "if scrap[\"comments\"]:\n",
    "    for index, comment in enumerate(scrap[\"comments\"]):\n",
    "        sleep(.5)\n",
    "        driver.get(comment[\"profile_image_src\"])\n",
    "\n",
    "        image_output_path = f\"{export_path}/comment_profile_photo_{index}.png\"\n",
    "\n",
    "        comment[\"image_index\"] = str(index)\n",
    "        driver.find_element(by=By.TAG_NAME, value=\"img\").screenshot(image_output_path)\n",
    "        "
   ]
  },
  {
   "cell_type": "code",
   "execution_count": 14,
   "metadata": {},
   "outputs": [],
   "source": [
    "driver.close()"
   ]
  },
  {
   "cell_type": "code",
   "execution_count": 15,
   "metadata": {},
   "outputs": [
    {
     "data": {
      "text/plain": [
       "'last_scrap'"
      ]
     },
     "execution_count": 15,
     "metadata": {},
     "output_type": "execute_result"
    }
   ],
   "source": [
    "import shutil\n",
    "#copy to folder\n",
    "input_folder = export_path\n",
    "output_folder = \"last_scrap\"\n",
    "\n",
    "#delete old folder\n",
    "shutil.rmtree(output_folder, ignore_errors=True)\n",
    "\n",
    "shutil.copytree(input_folder, output_folder)"
   ]
  }
 ],
 "metadata": {
  "kernelspec": {
   "display_name": ".venv",
   "language": "python",
   "name": "python3"
  },
  "language_info": {
   "codemirror_mode": {
    "name": "ipython",
    "version": 3
   },
   "file_extension": ".py",
   "mimetype": "text/x-python",
   "name": "python",
   "nbconvert_exporter": "python",
   "pygments_lexer": "ipython3",
   "version": "3.11.6"
  }
 },
 "nbformat": 4,
 "nbformat_minor": 2
}
